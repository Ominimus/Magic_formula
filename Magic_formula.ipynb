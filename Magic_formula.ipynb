{
  "nbformat": 4,
  "nbformat_minor": 0,
  "metadata": {
    "colab": {
      "name": "Magic_formula.ipynb",
      "provenance": []
    },
    "kernelspec": {
      "name": "python3",
      "display_name": "Python 3"
    },
    "language_info": {
      "name": "python"
    }
  },
  "cells": [
    {
      "cell_type": "markdown",
      "metadata": {
        "id": "KNWqv3j_WVWt"
      },
      "source": [
        "# Magic formula from Joel Greenblatt\n",
        "\n",
        "This code uses the fundamentos API, a finance api that get information about the São Paulo stock market(BOVESPA) from the website http://www.fundamentus.com.br/, and the code will use this data to return the best assets to buy with the Magic formula from Joel Greenbaltt."
      ]
    },
    {
      "cell_type": "markdown",
      "metadata": {
        "id": "8cl2nIqLZ7kq"
      },
      "source": [
        "# Installing fundamentus API\n"
      ]
    },
    {
      "cell_type": "code",
      "metadata": {
        "colab": {
          "base_uri": "https://localhost:8080/"
        },
        "id": "AZ05ZOw5Ul2W",
        "outputId": "63762836-de7e-472e-9ee5-f3e0f8c5e462"
      },
      "source": [
        "!pip install fundamentus"
      ],
      "execution_count": null,
      "outputs": [
        {
          "output_type": "stream",
          "name": "stdout",
          "text": [
            "Requirement already satisfied: fundamentus in /usr/local/lib/python3.7/dist-packages (0.2.0)\n",
            "Requirement already satisfied: lxml>=4.6.2 in /usr/local/lib/python3.7/dist-packages (from fundamentus) (4.6.3)\n",
            "Requirement already satisfied: tabulate>=0.8.7 in /usr/local/lib/python3.7/dist-packages (from fundamentus) (0.8.9)\n",
            "Requirement already satisfied: pandas>=1.1.5 in /usr/local/lib/python3.7/dist-packages (from fundamentus) (1.1.5)\n",
            "Requirement already satisfied: requests>=2.25.1 in /usr/local/lib/python3.7/dist-packages (from fundamentus) (2.26.0)\n",
            "Requirement already satisfied: requests-cache>=0.5.2 in /usr/local/lib/python3.7/dist-packages (from fundamentus) (0.8.0)\n",
            "Requirement already satisfied: python-dateutil>=2.7.3 in /usr/local/lib/python3.7/dist-packages (from pandas>=1.1.5->fundamentus) (2.8.2)\n",
            "Requirement already satisfied: pytz>=2017.2 in /usr/local/lib/python3.7/dist-packages (from pandas>=1.1.5->fundamentus) (2018.9)\n",
            "Requirement already satisfied: numpy>=1.15.4 in /usr/local/lib/python3.7/dist-packages (from pandas>=1.1.5->fundamentus) (1.19.5)\n",
            "Requirement already satisfied: six>=1.5 in /usr/local/lib/python3.7/dist-packages (from python-dateutil>=2.7.3->pandas>=1.1.5->fundamentus) (1.15.0)\n",
            "Requirement already satisfied: idna<4,>=2.5 in /usr/local/lib/python3.7/dist-packages (from requests>=2.25.1->fundamentus) (2.10)\n",
            "Requirement already satisfied: certifi>=2017.4.17 in /usr/local/lib/python3.7/dist-packages (from requests>=2.25.1->fundamentus) (2021.5.30)\n",
            "Requirement already satisfied: charset-normalizer~=2.0.0 in /usr/local/lib/python3.7/dist-packages (from requests>=2.25.1->fundamentus) (2.0.4)\n",
            "Requirement already satisfied: urllib3<1.27,>=1.21.1 in /usr/local/lib/python3.7/dist-packages (from requests>=2.25.1->fundamentus) (1.26.6)\n",
            "Requirement already satisfied: cattrs<2.0,>=1.8 in /usr/local/lib/python3.7/dist-packages (from requests-cache>=0.5.2->fundamentus) (1.8.0)\n",
            "Requirement already satisfied: url-normalize<2.0,>=1.4 in /usr/local/lib/python3.7/dist-packages (from requests-cache>=0.5.2->fundamentus) (1.4.3)\n",
            "Requirement already satisfied: appdirs<2.0.0,>=1.4.4 in /usr/local/lib/python3.7/dist-packages (from requests-cache>=0.5.2->fundamentus) (1.4.4)\n",
            "Requirement already satisfied: attrs<22.0,>=21.2 in /usr/local/lib/python3.7/dist-packages (from requests-cache>=0.5.2->fundamentus) (21.2.0)\n"
          ]
        }
      ]
    },
    {
      "cell_type": "markdown",
      "metadata": {
        "id": "_aY26EbnaD_3"
      },
      "source": [
        "# Importing the DataFrame and treating it."
      ]
    },
    {
      "cell_type": "code",
      "metadata": {
        "id": "ksAupgblVd8X"
      },
      "source": [
        "import fundamentus\n",
        "import pandas as pd\n",
        "import numpy as np\n",
        "\n",
        "df = fundamentus.get_resultado()"
      ],
      "execution_count": null,
      "outputs": []
    },
    {
      "cell_type": "code",
      "metadata": {
        "colab": {
          "base_uri": "https://localhost:8080/"
        },
        "id": "ZWrWjIXZdu-b",
        "outputId": "00038da7-ef12-4895-d00c-6067e7fcb45b"
      },
      "source": [
        "min_liq = int(input(\"minimum liquidity in the last 2 months: \"))"
      ],
      "execution_count": null,
      "outputs": [
        {
          "name": "stdout",
          "output_type": "stream",
          "text": [
            "minimum liquidity in the last 2 months: 100000\n"
          ]
        }
      ]
    },
    {
      "cell_type": "code",
      "metadata": {
        "id": "z1z2fzNvZ2Tc"
      },
      "source": [
        "drop = ['cotacao', 'pl', 'pvp', 'psr', 'dy', 'pa', 'pcg', 'pebit', 'pacl', 'evebitda', 'mrgebit', 'mrgliq',  'roe', 'liqc', 'liq2m', 'patrliq', 'divbpatr', 'c5y']\n",
        "\n",
        "for index, row in df.iterrows():\n",
        "  if (row['pl'] <= 0 or row['roe'] <= 0 or row['liq2m'] <= min_liq):\n",
        "    df = df.drop(index)\n",
        "df_final = df[['pl', 'roe']]"
      ],
      "execution_count": null,
      "outputs": []
    },
    {
      "cell_type": "markdown",
      "metadata": {
        "id": "zgQti6vMhEjx"
      },
      "source": [
        "# Creating the ranking"
      ]
    },
    {
      "cell_type": "code",
      "metadata": {
        "colab": {
          "base_uri": "https://localhost:8080/",
          "height": 1000
        },
        "id": "_-jDmq59hUyG",
        "outputId": "0fc7494b-6c1a-4ccc-d45e-10e955523bee"
      },
      "source": [
        "i=1\n",
        "for index, row in df_final.sort_values('pl').iterrows():\n",
        "  df_final.loc[index, 'ranking pl']=i\n",
        "  i += 1\n",
        "i=1\n",
        "for index, row in df_final.sort_values('roe', ascending=False).iterrows():\n",
        "  df_final.loc[index, 'ranking Roe']=i\n",
        "  i+=1\n",
        "df_final['ranking Magic formula'] = df_final['ranking Roe']+df_final['ranking pl']\n",
        "df_final.sort_values('ranking Magic formula').head(20)"
      ],
      "execution_count": null,
      "outputs": [
        {
          "output_type": "stream",
          "name": "stderr",
          "text": [
            "/usr/local/lib/python3.7/dist-packages/pandas/core/indexing.py:1596: SettingWithCopyWarning: \n",
            "A value is trying to be set on a copy of a slice from a DataFrame.\n",
            "Try using .loc[row_indexer,col_indexer] = value instead\n",
            "\n",
            "See the caveats in the documentation: https://pandas.pydata.org/pandas-docs/stable/user_guide/indexing.html#returning-a-view-versus-a-copy\n",
            "  self.obj[key] = _infer_fill_value(value)\n",
            "/usr/local/lib/python3.7/dist-packages/pandas/core/indexing.py:1601: SettingWithCopyWarning: \n",
            "A value is trying to be set on a copy of a slice from a DataFrame\n",
            "\n",
            "See the caveats in the documentation: https://pandas.pydata.org/pandas-docs/stable/user_guide/indexing.html#returning-a-view-versus-a-copy\n",
            "  self._setitem_with_indexer(new_indexer, value)\n",
            "/usr/local/lib/python3.7/dist-packages/pandas/core/indexing.py:670: SettingWithCopyWarning: \n",
            "A value is trying to be set on a copy of a slice from a DataFrame\n",
            "\n",
            "See the caveats in the documentation: https://pandas.pydata.org/pandas-docs/stable/user_guide/indexing.html#returning-a-view-versus-a-copy\n",
            "  iloc._setitem_with_indexer(indexer, value)\n",
            "/usr/local/lib/python3.7/dist-packages/ipykernel_launcher.py:3: SettingWithCopyWarning: \n",
            "A value is trying to be set on a copy of a slice from a DataFrame\n",
            "\n",
            "See the caveats in the documentation: https://pandas.pydata.org/pandas-docs/stable/user_guide/indexing.html#returning-a-view-versus-a-copy\n",
            "  This is separate from the ipykernel package so we can avoid doing imports until\n",
            "/usr/local/lib/python3.7/dist-packages/ipykernel_launcher.py:7: SettingWithCopyWarning: \n",
            "A value is trying to be set on a copy of a slice from a DataFrame\n",
            "\n",
            "See the caveats in the documentation: https://pandas.pydata.org/pandas-docs/stable/user_guide/indexing.html#returning-a-view-versus-a-copy\n",
            "  import sys\n",
            "/usr/local/lib/python3.7/dist-packages/ipykernel_launcher.py:9: SettingWithCopyWarning: \n",
            "A value is trying to be set on a copy of a slice from a DataFrame.\n",
            "Try using .loc[row_indexer,col_indexer] = value instead\n",
            "\n",
            "See the caveats in the documentation: https://pandas.pydata.org/pandas-docs/stable/user_guide/indexing.html#returning-a-view-versus-a-copy\n",
            "  if __name__ == '__main__':\n"
          ]
        },
        {
          "output_type": "execute_result",
          "data": {
            "text/html": [
              "<div>\n",
              "<style scoped>\n",
              "    .dataframe tbody tr th:only-of-type {\n",
              "        vertical-align: middle;\n",
              "    }\n",
              "\n",
              "    .dataframe tbody tr th {\n",
              "        vertical-align: top;\n",
              "    }\n",
              "\n",
              "    .dataframe thead th {\n",
              "        text-align: right;\n",
              "    }\n",
              "</style>\n",
              "<table border=\"1\" class=\"dataframe\">\n",
              "  <thead>\n",
              "    <tr style=\"text-align: right;\">\n",
              "      <th>Multiples</th>\n",
              "      <th>pl</th>\n",
              "      <th>roe</th>\n",
              "      <th>ranking pl</th>\n",
              "      <th>ranking Roe</th>\n",
              "      <th>ranking Magic formula</th>\n",
              "    </tr>\n",
              "    <tr>\n",
              "      <th>papel</th>\n",
              "      <th></th>\n",
              "      <th></th>\n",
              "      <th></th>\n",
              "      <th></th>\n",
              "      <th></th>\n",
              "    </tr>\n",
              "  </thead>\n",
              "  <tbody>\n",
              "    <tr>\n",
              "      <th>CEBR3</th>\n",
              "      <td>1.46</td>\n",
              "      <td>0.8842</td>\n",
              "      <td>1.0</td>\n",
              "      <td>8.0</td>\n",
              "      <td>9.0</td>\n",
              "    </tr>\n",
              "    <tr>\n",
              "      <th>TASA4</th>\n",
              "      <td>3.60</td>\n",
              "      <td>1.7796</td>\n",
              "      <td>11.0</td>\n",
              "      <td>2.0</td>\n",
              "      <td>13.0</td>\n",
              "    </tr>\n",
              "    <tr>\n",
              "      <th>TASA3</th>\n",
              "      <td>3.78</td>\n",
              "      <td>1.7796</td>\n",
              "      <td>14.0</td>\n",
              "      <td>1.0</td>\n",
              "      <td>15.0</td>\n",
              "    </tr>\n",
              "    <tr>\n",
              "      <th>LUPA3</th>\n",
              "      <td>1.86</td>\n",
              "      <td>0.6283</td>\n",
              "      <td>2.0</td>\n",
              "      <td>16.0</td>\n",
              "      <td>18.0</td>\n",
              "    </tr>\n",
              "    <tr>\n",
              "      <th>CSNA3</th>\n",
              "      <td>3.11</td>\n",
              "      <td>0.6914</td>\n",
              "      <td>6.0</td>\n",
              "      <td>13.0</td>\n",
              "      <td>19.0</td>\n",
              "    </tr>\n",
              "    <tr>\n",
              "      <th>MRFG3</th>\n",
              "      <td>3.83</td>\n",
              "      <td>0.9226</td>\n",
              "      <td>15.0</td>\n",
              "      <td>7.0</td>\n",
              "      <td>22.0</td>\n",
              "    </tr>\n",
              "    <tr>\n",
              "      <th>ETER3</th>\n",
              "      <td>4.04</td>\n",
              "      <td>0.6299</td>\n",
              "      <td>17.0</td>\n",
              "      <td>15.0</td>\n",
              "      <td>32.0</td>\n",
              "    </tr>\n",
              "    <tr>\n",
              "      <th>BRKM3</th>\n",
              "      <td>5.52</td>\n",
              "      <td>1.0798</td>\n",
              "      <td>45.0</td>\n",
              "      <td>5.0</td>\n",
              "      <td>50.0</td>\n",
              "    </tr>\n",
              "    <tr>\n",
              "      <th>USIM3</th>\n",
              "      <td>2.93</td>\n",
              "      <td>0.3374</td>\n",
              "      <td>3.0</td>\n",
              "      <td>48.0</td>\n",
              "      <td>51.0</td>\n",
              "    </tr>\n",
              "    <tr>\n",
              "      <th>CMIN3</th>\n",
              "      <td>4.93</td>\n",
              "      <td>0.4953</td>\n",
              "      <td>32.0</td>\n",
              "      <td>20.0</td>\n",
              "      <td>52.0</td>\n",
              "    </tr>\n",
              "    <tr>\n",
              "      <th>USIM5</th>\n",
              "      <td>2.97</td>\n",
              "      <td>0.3374</td>\n",
              "      <td>4.0</td>\n",
              "      <td>49.0</td>\n",
              "      <td>53.0</td>\n",
              "    </tr>\n",
              "    <tr>\n",
              "      <th>BRAP3</th>\n",
              "      <td>3.76</td>\n",
              "      <td>0.3774</td>\n",
              "      <td>13.0</td>\n",
              "      <td>40.0</td>\n",
              "      <td>53.0</td>\n",
              "    </tr>\n",
              "    <tr>\n",
              "      <th>PLPL3</th>\n",
              "      <td>5.06</td>\n",
              "      <td>0.5204</td>\n",
              "      <td>34.0</td>\n",
              "      <td>19.0</td>\n",
              "      <td>53.0</td>\n",
              "    </tr>\n",
              "    <tr>\n",
              "      <th>TAEE11</th>\n",
              "      <td>4.76</td>\n",
              "      <td>0.4256</td>\n",
              "      <td>26.0</td>\n",
              "      <td>28.0</td>\n",
              "      <td>54.0</td>\n",
              "    </tr>\n",
              "    <tr>\n",
              "      <th>CYRE3</th>\n",
              "      <td>3.74</td>\n",
              "      <td>0.3562</td>\n",
              "      <td>12.0</td>\n",
              "      <td>44.0</td>\n",
              "      <td>56.0</td>\n",
              "    </tr>\n",
              "    <tr>\n",
              "      <th>TAEE4</th>\n",
              "      <td>4.79</td>\n",
              "      <td>0.4256</td>\n",
              "      <td>27.0</td>\n",
              "      <td>30.0</td>\n",
              "      <td>57.0</td>\n",
              "    </tr>\n",
              "    <tr>\n",
              "      <th>TAEE3</th>\n",
              "      <td>4.79</td>\n",
              "      <td>0.4256</td>\n",
              "      <td>28.0</td>\n",
              "      <td>29.0</td>\n",
              "      <td>57.0</td>\n",
              "    </tr>\n",
              "    <tr>\n",
              "      <th>BRAP4</th>\n",
              "      <td>4.15</td>\n",
              "      <td>0.3774</td>\n",
              "      <td>18.0</td>\n",
              "      <td>39.0</td>\n",
              "      <td>57.0</td>\n",
              "    </tr>\n",
              "    <tr>\n",
              "      <th>BRKM5</th>\n",
              "      <td>5.75</td>\n",
              "      <td>1.0798</td>\n",
              "      <td>55.0</td>\n",
              "      <td>6.0</td>\n",
              "      <td>61.0</td>\n",
              "    </tr>\n",
              "    <tr>\n",
              "      <th>RAPT4</th>\n",
              "      <td>4.75</td>\n",
              "      <td>0.3778</td>\n",
              "      <td>24.0</td>\n",
              "      <td>37.0</td>\n",
              "      <td>61.0</td>\n",
              "    </tr>\n",
              "  </tbody>\n",
              "</table>\n",
              "</div>"
            ],
            "text/plain": [
              "Multiples    pl     roe  ranking pl  ranking Roe  ranking Magic formula\n",
              "papel                                                                  \n",
              "CEBR3      1.46  0.8842         1.0          8.0                    9.0\n",
              "TASA4      3.60  1.7796        11.0          2.0                   13.0\n",
              "TASA3      3.78  1.7796        14.0          1.0                   15.0\n",
              "LUPA3      1.86  0.6283         2.0         16.0                   18.0\n",
              "CSNA3      3.11  0.6914         6.0         13.0                   19.0\n",
              "MRFG3      3.83  0.9226        15.0          7.0                   22.0\n",
              "ETER3      4.04  0.6299        17.0         15.0                   32.0\n",
              "BRKM3      5.52  1.0798        45.0          5.0                   50.0\n",
              "USIM3      2.93  0.3374         3.0         48.0                   51.0\n",
              "CMIN3      4.93  0.4953        32.0         20.0                   52.0\n",
              "USIM5      2.97  0.3374         4.0         49.0                   53.0\n",
              "BRAP3      3.76  0.3774        13.0         40.0                   53.0\n",
              "PLPL3      5.06  0.5204        34.0         19.0                   53.0\n",
              "TAEE11     4.76  0.4256        26.0         28.0                   54.0\n",
              "CYRE3      3.74  0.3562        12.0         44.0                   56.0\n",
              "TAEE4      4.79  0.4256        27.0         30.0                   57.0\n",
              "TAEE3      4.79  0.4256        28.0         29.0                   57.0\n",
              "BRAP4      4.15  0.3774        18.0         39.0                   57.0\n",
              "BRKM5      5.75  1.0798        55.0          6.0                   61.0\n",
              "RAPT4      4.75  0.3778        24.0         37.0                   61.0"
            ]
          },
          "metadata": {},
          "execution_count": 54
        }
      ]
    }
  ]
}